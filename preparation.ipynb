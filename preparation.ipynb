{
 "cells": [
  {
   "cell_type": "raw",
   "metadata": {},
   "source": [
    "Combine depriveation indicators data and the calculations for antibiotic prescribing at the ccg level (Indicator=92377)\n",
    "Variables pulled: All"
   ]
  },
  {
   "cell_type": "code",
   "execution_count": 45,
   "metadata": {
    "extensions": {
     "jupyter_dashboards": {
      "version": 1,
      "views": {
       "grid_default": {
        "hidden": true
       },
       "report_default": {
        "hidden": true
       }
      }
     }
    }
   },
   "outputs": [],
   "source": [
    "import pandas as pd\n",
    "import numpy as np\n",
    "import re\n",
    "import datetime\n",
    "\n",
    "#get raw data \n",
    "dir_path='//Users/rony/Dropbox/2. projects/AMR/Analysis/deprivation/IMD_2015/raw_data/File_13_ID_2015_Clinical_Commissioning_Group_Summaries.xlsx'\n",
    "xl = pd.ExcelFile(dir_path)\n",
    "sheets=xl.sheet_names\n",
    "del sheets[0]\n",
    "#storing the values 'Rank of average score' of each index in a separate datdframes\n",
    "indices_dfs=[] #to store dataframes for indices datasets \n",
    "data=pd.DataFrame()\n",
    "for index, value in enumerate (sheets):\n",
    "    sheet_df=xl.parse(value)\n",
    "    columns_list=sheet_df.columns\n",
    "    for index1, header in enumerate (columns_list):\n",
    "        searching=re.findall ('Rank of average score', header) \n",
    "        if searching ==['Rank of average score']:\n",
    "            if index==0:\n",
    "                sheet_df=sheet_df[['Clinical Commissioning Group Name (2015)','Clinical Commissioning Group Code (2015)', header]]\n",
    "            else:\n",
    "                sheet_df=sheet_df[['Clinical Commissioning Group Name (2015)',header]]\n",
    "                \n",
    "            indices_dfs=indices_dfs+[sheet_df]\n",
    "            sheet_df.rename(columns = {'Clinical Commissioning Group Name (2015)':'CCG'}, inplace = True)\n",
    "\n",
    "#join datasets\n",
    "indices_dfs = [df.set_index('CCG') for df in indices_dfs]\n",
    "indices_dfs=indices_dfs[0].join(indices_dfs[1:])\n",
    "\n",
    "#rename headers\n",
    "headers=indices_dfs.columns\n",
    "new_headers=[re.findall('(.*) - Rank of average score',x) for x in headers]\n",
    "new_headers [0]=['AreaCode']\n",
    "new_headers=[z[0] for z in new_headers]\n",
    "indices_dfs.columns=new_headers\n",
    "\n",
    "#clean CCG names\n",
    "temp_series=indices_dfs.index.str.rstrip('CCG')\n",
    "temp_series1=temp_series.str.lstrip('NHS')\n",
    "temp_series2=temp_series1.str.strip()\n",
    "indices_dfs.index=temp_series2\n",
    "\n",
    "#import and join descriptive data\n",
    "descriptives=pd.read_csv('diff_desc_92377.csv')\n",
    "descriptives=descriptives[['CCG','AreaCode','mean','max','diff.','%diff.']]\n",
    "\n",
    "#match CCG names in both datasets\n",
    "#necessary to examine non-overlapping CCGs (see regions_not_included.txt)\n",
    "descriptives['CCG']=descriptives['CCG'].str.replace('Of', 'of')\n",
    "descriptives['CCG']=descriptives['CCG'].str.replace('And', 'and')\n",
    "\n",
    "descriptives['CCG']=descriptives['CCG'].str.replace('Airedale, Wharfdale and Craven','Airedale, Wharfedale and Craven')\n",
    "descriptives['CCG']=descriptives['CCG'].str.replace('Birmingham Crosscity', 'Birmingham CrossCity')\n",
    "descriptives['CCG']=descriptives['CCG'].str.replace('Blackburn With Darwen','Blackburn with Darwen')\n",
    "descriptives['CCG']=descriptives['CCG'].str.replace('Hartlepool and Stockton-On-Tees','Hartlepool and Stockton-on-Tees')\n",
    "descriptives['CCG']=descriptives['CCG'].str.replace('Newcastle and Gateshead', 'Newcastle Gateshead')\n",
    "descriptives['CCG']=descriptives['CCG'].str.replace('South East Staffs and Seisdon Peninsular','South East Staffordshire and Seisdon Peninsular')\n",
    "descriptives['CCG']=descriptives['CCG'].str.replace('Stoke On Trent','Stoke on Trent')\n",
    "\n",
    "desc_IMD=pd.merge (descriptives,indices_dfs)\n",
    "#rename columns\n",
    "desc_IMD=desc_IMD.rename(columns={'Education, Skills and Training':'Education', 'Health Deprivation and Disability':'Health',\n",
    "       'Barriers to Housing and Services':'Services_Housing','Living Environment':'Living_Environment'})\n",
    "del desc_IMD['Income Deprivation Affecting Children Index (IDACI)'], desc_IMD['Income Deprivation Affecting Older People (IDAOPI)']\n",
    "desc_IMD=desc_IMD.rename(columns={'mean': 'mean_presc','IMD':'Deprivation', 'max': 'max_presc','%diff.':'Reduction'})\n",
    "\n",
    "desc_IMD.to_csv('desc_IMD_92377.csv')"
   ]
  }
 ],
 "metadata": {
  "kernelspec": {
   "display_name": "Python 3",
   "language": "python",
   "name": "python3"
  },
  "language_info": {
   "codemirror_mode": {
    "name": "ipython",
    "version": 3
   },
   "file_extension": ".py",
   "mimetype": "text/x-python",
   "name": "python",
   "nbconvert_exporter": "python",
   "pygments_lexer": "ipython3",
   "version": "3.6.4"
  }
 },
 "nbformat": 4,
 "nbformat_minor": 2
}
